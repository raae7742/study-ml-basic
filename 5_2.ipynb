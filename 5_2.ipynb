{
  "nbformat": 4,
  "nbformat_minor": 0,
  "metadata": {
    "colab": {
      "name": "5-2.ipynb",
      "provenance": [],
      "collapsed_sections": [],
      "authorship_tag": "ABX9TyOYptDI1L/cAoiFd+2sNU9x",
      "include_colab_link": true
    },
    "kernelspec": {
      "name": "python3",
      "display_name": "Python 3"
    },
    "language_info": {
      "name": "python"
    }
  },
  "cells": [
    {
      "cell_type": "markdown",
      "metadata": {
        "id": "view-in-github",
        "colab_type": "text"
      },
      "source": [
        "<a href=\"https://colab.research.google.com/github/raae7742/study-ml-basic/blob/main/5_2.ipynb\" target=\"_parent\"><img src=\"https://colab.research.google.com/assets/colab-badge.svg\" alt=\"Open In Colab\"/></a>"
      ]
    },
    {
      "cell_type": "markdown",
      "source": [
        "# 교차 검증과 그리드 서치\n",
        "## 검증 세트"
      ],
      "metadata": {
        "id": "4wXiSX-vQqPw"
      }
    },
    {
      "cell_type": "code",
      "source": [
        "import pandas as pd\n",
        "\n",
        "wine = pd.read_csv('https://bit.ly/wine_csv_data')\n",
        "data = wine[['alcohol', 'sugar', 'pH']].to_numpy()\n",
        "target = wine['class'].to_numpy()"
      ],
      "metadata": {
        "id": "SPoQI1gmQubK"
      },
      "execution_count": 3,
      "outputs": []
    },
    {
      "cell_type": "code",
      "source": [
        "from sklearn.model_selection import train_test_split\n",
        "\n",
        "train_input, test_input, train_target, test_target = train_test_split(\n",
        "    data, target, test_size=0.2, random_state=42)\n",
        "\n",
        "sub_input, val_input, sub_target, val_target = train_test_split(\n",
        "    train_input, train_target, test_size=0.2, random_state=42)\n",
        "\n",
        "print(sub_input.shape, val_input.shape)"
      ],
      "metadata": {
        "colab": {
          "base_uri": "https://localhost:8080/"
        },
        "id": "yTk8xMxAQ41P",
        "outputId": "9a9657fa-53fa-4e65-a873-31b688dc9121"
      },
      "execution_count": 4,
      "outputs": [
        {
          "output_type": "stream",
          "name": "stdout",
          "text": [
            "(4157, 3) (1040, 3)\n"
          ]
        }
      ]
    },
    {
      "cell_type": "code",
      "source": [
        "from sklearn.tree import DecisionTreeClassifier\n",
        "\n",
        "dt = DecisionTreeClassifier(random_state=42)\n",
        "dt.fit(sub_input, sub_target)\n",
        "\n",
        "print(dt.score(sub_input, sub_target))\n",
        "print(dt.score(val_input, val_target))"
      ],
      "metadata": {
        "colab": {
          "base_uri": "https://localhost:8080/"
        },
        "id": "g-U-vK7hRKjL",
        "outputId": "586b0af6-521e-40af-f2b4-437f1baa6016"
      },
      "execution_count": 5,
      "outputs": [
        {
          "output_type": "stream",
          "name": "stdout",
          "text": [
            "0.9971133028626413\n",
            "0.864423076923077\n"
          ]
        }
      ]
    },
    {
      "cell_type": "markdown",
      "source": [
        "## 교차 검증"
      ],
      "metadata": {
        "id": "aQyqLiILRiAQ"
      }
    },
    {
      "cell_type": "code",
      "source": [
        "from sklearn.model_selection import cross_validate\n",
        "\n",
        "scores = cross_validate(dt, train_input,train_target)\n",
        "print(scores)"
      ],
      "metadata": {
        "colab": {
          "base_uri": "https://localhost:8080/"
        },
        "id": "7xrmLJbgRhUk",
        "outputId": "0d898221-359a-480c-b861-58d92fb5f250"
      },
      "execution_count": 6,
      "outputs": [
        {
          "output_type": "stream",
          "name": "stdout",
          "text": [
            "{'fit_time': array([0.01027608, 0.00876713, 0.00929141, 0.0093751 , 0.01125717]), 'score_time': array([0.00097275, 0.00080705, 0.00085807, 0.00077486, 0.00087476]), 'test_score': array([0.86923077, 0.84615385, 0.87680462, 0.84889317, 0.83541867])}\n"
          ]
        }
      ]
    },
    {
      "cell_type": "code",
      "source": [
        "import numpy as np\n",
        "\n",
        "print(np.mean(scores['test_score']))"
      ],
      "metadata": {
        "colab": {
          "base_uri": "https://localhost:8080/"
        },
        "id": "jakifTewRret",
        "outputId": "50c22d3c-f460-4101-bdde-ba941b23e99e"
      },
      "execution_count": 8,
      "outputs": [
        {
          "output_type": "stream",
          "name": "stdout",
          "text": [
            "0.855300214703487\n"
          ]
        }
      ]
    },
    {
      "cell_type": "code",
      "source": [
        "from sklearn.model_selection import StratifiedKFold\n",
        "\n",
        "scores = cross_validate(dt, train_input, train_target, cv=StratifiedKFold())\n",
        "print(np.mean(scores['test_score']))"
      ],
      "metadata": {
        "colab": {
          "base_uri": "https://localhost:8080/"
        },
        "id": "sOBhU2KKRz8W",
        "outputId": "8acaf27c-6ecb-48d9-f978-a6299c488fbf"
      },
      "execution_count": 10,
      "outputs": [
        {
          "output_type": "stream",
          "name": "stdout",
          "text": [
            "0.855300214703487\n"
          ]
        }
      ]
    },
    {
      "cell_type": "markdown",
      "source": [
        "## 하이퍼파라미터 튜닝"
      ],
      "metadata": {
        "id": "tGFUQ5RZSBbs"
      }
    },
    {
      "cell_type": "code",
      "source": [
        "from sklearn.model_selection import GridSearchCV\n",
        "\n",
        "params = {'min_impurity_decrease': [0.0001, 0.0002, 0.0003, 0.0004, 0.0005]}\n",
        "\n",
        "gs = GridSearchCV(DecisionTreeClassifier(random_state=42), params, n_jobs=-1)\n",
        "gs.fit(train_input, train_target)"
      ],
      "metadata": {
        "colab": {
          "base_uri": "https://localhost:8080/"
        },
        "id": "eN58Sq7VSCVZ",
        "outputId": "ba44ca32-d4fa-4eba-f77e-3db01723661b"
      },
      "execution_count": 11,
      "outputs": [
        {
          "output_type": "execute_result",
          "data": {
            "text/plain": [
              "GridSearchCV(estimator=DecisionTreeClassifier(random_state=42), n_jobs=-1,\n",
              "             param_grid={'min_impurity_decrease': [0.0001, 0.0002, 0.0003,\n",
              "                                                   0.0004, 0.0005]})"
            ]
          },
          "metadata": {},
          "execution_count": 11
        }
      ]
    },
    {
      "cell_type": "code",
      "source": [
        "dt = gs.best_estimator_\n",
        "print(dt.score(train_input, train_target))"
      ],
      "metadata": {
        "colab": {
          "base_uri": "https://localhost:8080/"
        },
        "id": "yMB06oHLTwsi",
        "outputId": "01a793b8-3f0b-43ce-ded4-d4ed35e1087a"
      },
      "execution_count": 12,
      "outputs": [
        {
          "output_type": "stream",
          "name": "stdout",
          "text": [
            "0.9615162593804117\n"
          ]
        }
      ]
    },
    {
      "cell_type": "code",
      "source": [
        "print(gs.best_params_)"
      ],
      "metadata": {
        "colab": {
          "base_uri": "https://localhost:8080/"
        },
        "id": "VOdmwtkqT0tZ",
        "outputId": "da718e69-eeec-4ed7-aab6-1796d60e1d05"
      },
      "execution_count": 13,
      "outputs": [
        {
          "output_type": "stream",
          "name": "stdout",
          "text": [
            "{'min_impurity_decrease': 0.0001}\n"
          ]
        }
      ]
    },
    {
      "cell_type": "code",
      "source": [
        "best_index = np.argmax(gs.cv_results_['mean_test_score'])\n",
        "print(gs.cv_results_['params'][best_index])"
      ],
      "metadata": {
        "colab": {
          "base_uri": "https://localhost:8080/"
        },
        "id": "_e2ygO1jT211",
        "outputId": "496dd67a-d13d-4e79-f909-759a710ac3da"
      },
      "execution_count": 15,
      "outputs": [
        {
          "output_type": "stream",
          "name": "stdout",
          "text": [
            "{'min_impurity_decrease': 0.0001}\n"
          ]
        }
      ]
    },
    {
      "cell_type": "code",
      "source": [
        "params = {'min_impurity_decrease': np.arange(0.0001, 0.001, 0.0001),\n",
        "          'max_depth': range(5, 20, 1),\n",
        "          'min_samples_split': range(2, 100, 10)\n",
        "         }\n",
        "\n",
        "gs = GridSearchCV(DecisionTreeClassifier(random_state=42), params, n_jobs=-1)\n",
        "gs.fit(train_input, train_target)\n",
        "\n",
        "print(gs.best_params_)"
      ],
      "metadata": {
        "colab": {
          "base_uri": "https://localhost:8080/"
        },
        "id": "-JpbM4pqUFCt",
        "outputId": "819270bb-4f5b-4c16-a0d8-a27bcb301c66"
      },
      "execution_count": 17,
      "outputs": [
        {
          "output_type": "stream",
          "name": "stdout",
          "text": [
            "{'max_depth': 14, 'min_impurity_decrease': 0.0004, 'min_samples_split': 12}\n"
          ]
        }
      ]
    },
    {
      "cell_type": "code",
      "source": [
        "print(np.max(gs.cv_results_['mean_test_score']))"
      ],
      "metadata": {
        "colab": {
          "base_uri": "https://localhost:8080/"
        },
        "id": "mF5qGsR9UdtW",
        "outputId": "f06536fa-13c0-4b8c-e2fa-f2eea06c4365"
      },
      "execution_count": 18,
      "outputs": [
        {
          "output_type": "stream",
          "name": "stdout",
          "text": [
            "0.8683865773302731\n"
          ]
        }
      ]
    },
    {
      "cell_type": "markdown",
      "source": [
        "### 랜덤 서치"
      ],
      "metadata": {
        "id": "2loNYuFPUscd"
      }
    },
    {
      "cell_type": "code",
      "source": [
        "from scipy.stats import uniform, randint\n",
        "\n",
        "rgen = randint(0, 10)\n",
        "rgen.rvs(10)"
      ],
      "metadata": {
        "colab": {
          "base_uri": "https://localhost:8080/"
        },
        "id": "246318BMUtEa",
        "outputId": "7aaaf454-cae7-455c-bd97-ff9c3e468c6f"
      },
      "execution_count": 19,
      "outputs": [
        {
          "output_type": "execute_result",
          "data": {
            "text/plain": [
              "array([1, 7, 6, 0, 3, 6, 2, 2, 9, 3])"
            ]
          },
          "metadata": {},
          "execution_count": 19
        }
      ]
    },
    {
      "cell_type": "code",
      "source": [
        "np.unique(rgen.rvs(1000), return_counts=True)"
      ],
      "metadata": {
        "colab": {
          "base_uri": "https://localhost:8080/"
        },
        "id": "688YYWUjUxFs",
        "outputId": "4082b92e-15c4-431c-a2ff-e99c28b96d12"
      },
      "execution_count": 20,
      "outputs": [
        {
          "output_type": "execute_result",
          "data": {
            "text/plain": [
              "(array([0, 1, 2, 3, 4, 5, 6, 7, 8, 9]),\n",
              " array([ 86, 114,  99,  96,  95, 105,  88, 116,  93, 108]))"
            ]
          },
          "metadata": {},
          "execution_count": 20
        }
      ]
    },
    {
      "cell_type": "code",
      "source": [
        "ugen = uniform(0, 1)\n",
        "ugen.rvs(10)"
      ],
      "metadata": {
        "colab": {
          "base_uri": "https://localhost:8080/"
        },
        "id": "-aXtBYSPU0go",
        "outputId": "5f9236fc-7d3a-4f14-e53f-2d92b6e3ce59"
      },
      "execution_count": 21,
      "outputs": [
        {
          "output_type": "execute_result",
          "data": {
            "text/plain": [
              "array([0.64700709, 0.67290856, 0.95836813, 0.44687096, 0.89997365,\n",
              "       0.13923861, 0.25768111, 0.84022242, 0.45411273, 0.64006717])"
            ]
          },
          "metadata": {},
          "execution_count": 21
        }
      ]
    },
    {
      "cell_type": "code",
      "source": [
        "params = {'min_impurity_decrease': uniform(0.0001, 0.001),\n",
        "          'max_depth': randint(20, 50),\n",
        "          'min_samples_split': randint(2, 25),\n",
        "          'min_samples_leaf': randint(1, 25),\n",
        "          }"
      ],
      "metadata": {
        "id": "27mTQRy4U3Kx"
      },
      "execution_count": 22,
      "outputs": []
    },
    {
      "cell_type": "code",
      "source": [
        "from sklearn.model_selection import RandomizedSearchCV\n",
        "\n",
        "gs = RandomizedSearchCV(DecisionTreeClassifier(random_state=42), params, n_iter=100,\n",
        "                        n_jobs=-1, random_state=42)\n",
        "gs.fit(train_input, train_target)\n",
        "\n",
        "print(gs.best_params_)"
      ],
      "metadata": {
        "colab": {
          "base_uri": "https://localhost:8080/"
        },
        "id": "vq6VHjGGVD4y",
        "outputId": "abe40f6f-b639-4324-ba61-1480db35747f"
      },
      "execution_count": 23,
      "outputs": [
        {
          "output_type": "stream",
          "name": "stdout",
          "text": [
            "{'max_depth': 39, 'min_impurity_decrease': 0.00034102546602601173, 'min_samples_leaf': 7, 'min_samples_split': 13}\n"
          ]
        }
      ]
    },
    {
      "cell_type": "code",
      "source": [
        "print(np.max(gs.cv_results_['mean_test_score']))"
      ],
      "metadata": {
        "colab": {
          "base_uri": "https://localhost:8080/"
        },
        "id": "bpYsQZkaVTEd",
        "outputId": "4de8bfae-20fb-4a67-e907-e89b59b1975c"
      },
      "execution_count": 24,
      "outputs": [
        {
          "output_type": "stream",
          "name": "stdout",
          "text": [
            "0.8695428296438884\n"
          ]
        }
      ]
    },
    {
      "cell_type": "code",
      "source": [
        "dt = gs.best_estimator_\n",
        "print(dt.score(test_input, test_target))"
      ],
      "metadata": {
        "colab": {
          "base_uri": "https://localhost:8080/"
        },
        "id": "9a2AkylAVXrD",
        "outputId": "b57f173a-a1cf-436a-e0d3-92d4aec0c049"
      },
      "execution_count": 25,
      "outputs": [
        {
          "output_type": "stream",
          "name": "stdout",
          "text": [
            "0.86\n"
          ]
        }
      ]
    },
    {
      "cell_type": "markdown",
      "source": [
        "## 확인문제"
      ],
      "metadata": {
        "id": "oDqp7CM6VkNe"
      }
    },
    {
      "cell_type": "code",
      "source": [
        "gs = RandomizedSearchCV(DecisionTreeClassifier(splitter='random', random_state=42), params,\n",
        "                        n_iter=100, n_jobs=-1, random_state=42)\n",
        "gs.fit(train_input, train_target)\n",
        "\n",
        "print(gs.best_params_)\n",
        "print(np.max(gs.cv_results_['mean_test_score']))\n",
        "\n",
        "dt = gs.best_estimator_\n",
        "print(dt.score(test_input, test_target))"
      ],
      "metadata": {
        "colab": {
          "base_uri": "https://localhost:8080/"
        },
        "id": "_AwJuUXmVk8f",
        "outputId": "f2769a45-e975-4d33-d224-2d62e3b2e0ce"
      },
      "execution_count": 27,
      "outputs": [
        {
          "output_type": "stream",
          "name": "stdout",
          "text": [
            "{'max_depth': 43, 'min_impurity_decrease': 0.00011407982271508446, 'min_samples_leaf': 19, 'min_samples_split': 18}\n",
            "0.8458726956392981\n",
            "0.786923076923077\n"
          ]
        }
      ]
    }
  ]
}