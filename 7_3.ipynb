{
  "nbformat": 4,
  "nbformat_minor": 0,
  "metadata": {
    "colab": {
      "name": "7-3.ipynb",
      "provenance": [],
      "collapsed_sections": [],
      "authorship_tag": "ABX9TyMhbJVMHAP8YFaatem+jaHz",
      "include_colab_link": true
    },
    "kernelspec": {
      "name": "python3",
      "display_name": "Python 3"
    },
    "language_info": {
      "name": "python"
    }
  },
  "cells": [
    {
      "cell_type": "markdown",
      "metadata": {
        "id": "view-in-github",
        "colab_type": "text"
      },
      "source": [
        "<a href=\"https://colab.research.google.com/github/raae7742/study-ml-basic/blob/main/7_3.ipynb\" target=\"_parent\"><img src=\"https://colab.research.google.com/assets/colab-badge.svg\" alt=\"Open In Colab\"/></a>"
      ]
    },
    {
      "cell_type": "markdown",
      "source": [
        "# 신경망 모델 훈련"
      ],
      "metadata": {
        "id": "DFFVYkmVDTnz"
      }
    },
    {
      "cell_type": "code",
      "execution_count": 2,
      "metadata": {
        "id": "w5HkOUsQDSFO"
      },
      "outputs": [],
      "source": [
        "import tensorflow as tf\n",
        "\n",
        "tf.keras.utils.set_random_seed(42)\n",
        "tf.config.experimental.enable_op_determinism()"
      ]
    },
    {
      "cell_type": "markdown",
      "source": [
        "## 손실 곡선"
      ],
      "metadata": {
        "id": "t-QKyj2PDcyV"
      }
    },
    {
      "cell_type": "code",
      "source": [
        "from tensorflow import keras\n",
        "from sklearn.model_selection import train_test_split\n",
        "\n",
        "(train_input, train_target), (test_input, test_target) = \n",
        "    keras.datasets.fashion_mnist.load_data()\n",
        "\n",
        "train_scaled = train_input / 255.0\n",
        "\n",
        "train_scaled, val_scaled, train_target, val_target = train_test_split(\n",
        "    train_scaled, train_target, test_size=0.2, random_state=42)"
      ],
      "metadata": {
        "colab": {
          "base_uri": "https://localhost:8080/"
        },
        "id": "vsLUeV1qDboe",
        "outputId": "667dc70d-9fc7-4462-87f1-a5dd7e13f720"
      },
      "execution_count": 4,
      "outputs": [
        {
          "output_type": "stream",
          "name": "stdout",
          "text": [
            "Downloading data from https://storage.googleapis.com/tensorflow/tf-keras-datasets/train-labels-idx1-ubyte.gz\n",
            "32768/29515 [=================================] - 0s 0us/step\n",
            "40960/29515 [=========================================] - 0s 0us/step\n",
            "Downloading data from https://storage.googleapis.com/tensorflow/tf-keras-datasets/train-images-idx3-ubyte.gz\n",
            "26427392/26421880 [==============================] - 0s 0us/step\n",
            "26435584/26421880 [==============================] - 0s 0us/step\n",
            "Downloading data from https://storage.googleapis.com/tensorflow/tf-keras-datasets/t10k-labels-idx1-ubyte.gz\n",
            "16384/5148 [===============================================================================================] - 0s 0us/step\n",
            "Downloading data from https://storage.googleapis.com/tensorflow/tf-keras-datasets/t10k-images-idx3-ubyte.gz\n",
            "4423680/4422102 [==============================] - 0s 0us/step\n",
            "4431872/4422102 [==============================] - 0s 0us/step\n"
          ]
        }
      ]
    },
    {
      "cell_type": "code",
      "source": [
        "def model_fn(a_layer=None):\n",
        "  model = keras.Sequential()\n",
        "  model.add(keras.layers.Flatten(input_shape=(28, 28)))\n",
        "  model.add(keras.layers.Dense(100, activation='relu'))\n",
        "  if a_layer:\n",
        "    model.add(a_layer)\n",
        "  model.add(keras.layers.Dense(10, activation='softmax'))\n",
        "  return model"
      ],
      "metadata": {
        "id": "FQNEVSwoD2Y1"
      },
      "execution_count": 5,
      "outputs": []
    },
    {
      "cell_type": "code",
      "source": [
        "model = model_fn()\n",
        "\n",
        "model.summary()"
      ],
      "metadata": {
        "colab": {
          "base_uri": "https://localhost:8080/"
        },
        "id": "b4gRD_NnEFQF",
        "outputId": "77c80fc7-186d-4408-af6f-880fd2223b20"
      },
      "execution_count": 7,
      "outputs": [
        {
          "output_type": "stream",
          "name": "stdout",
          "text": [
            "Model: \"sequential_1\"\n",
            "_________________________________________________________________\n",
            " Layer (type)                Output Shape              Param #   \n",
            "=================================================================\n",
            " flatten_1 (Flatten)         (None, 784)               0         \n",
            "                                                                 \n",
            " dense_2 (Dense)             (None, 100)               78500     \n",
            "                                                                 \n",
            " dense_3 (Dense)             (None, 10)                1010      \n",
            "                                                                 \n",
            "=================================================================\n",
            "Total params: 79,510\n",
            "Trainable params: 79,510\n",
            "Non-trainable params: 0\n",
            "_________________________________________________________________\n"
          ]
        }
      ]
    },
    {
      "cell_type": "code",
      "source": [
        "model.compile(loss='sparse_categorical_crossentropy', metrics='accuracy')\n",
        "\n",
        "# 실제로는 fit 메소드로 history 객체를 구할 수 있음\n",
        "history = model.fit(train_scaled, train_target, epochs=5, verbose=0)\n",
        "# history 속성의 key 값을 살펴보자!\n",
        "print(history.history.keys())"
      ],
      "metadata": {
        "colab": {
          "base_uri": "https://localhost:8080/"
        },
        "id": "-Q4Q5FFEEIfh",
        "outputId": "7b2921d0-3649-43d2-ba41-045ed3272832"
      },
      "execution_count": 8,
      "outputs": [
        {
          "output_type": "stream",
          "name": "stdout",
          "text": [
            "dict_keys(['loss', 'accuracy'])\n"
          ]
        }
      ]
    },
    {
      "cell_type": "code",
      "source": [
        "import matplotlib.pyplot as plt\n",
        "\n",
        "# 손실 값\n",
        "plt.plot(history.history['loss'])\n",
        "plt.xlabel('epoch')\n",
        "plt.ylabel('loss')\n",
        "plt.show()"
      ],
      "metadata": {
        "colab": {
          "base_uri": "https://localhost:8080/",
          "height": 279
        },
        "id": "TzvbetSPERpg",
        "outputId": "9942ca41-99c3-4e86-c07f-22d4b7a221bd"
      },
      "execution_count": 9,
      "outputs": [
        {
          "output_type": "display_data",
          "data": {
            "text/plain": [
              "<Figure size 432x288 with 1 Axes>"
            ],
            "image/png": "[encoded data removed]"
          },
          "metadata": {
            "needs_background": "light"
          }
        }
      ]
    },
    {
      "cell_type": "code",
      "source": [
        "# 정확도\n",
        "plt.plot(history.history['accuracy'])\n",
        "plt.xlabel('epoch')\n",
        "plt.ylabel('accuracy')\n",
        "plt.show()"
      ],
      "metadata": {
        "colab": {
          "base_uri": "https://localhost:8080/",
          "height": 279
        },
        "id": "qLpmNV2mEdK7",
        "outputId": "d36f48d5-8e47-4d49-aa49-0ec6146b5e19"
      },
      "execution_count": 10,
      "outputs": [
        {
          "output_type": "display_data",
          "data": {
            "text/plain": [
              "<Figure size 432x288 with 1 Axes>"
            ],
            "image/png": "[encoded data removed]"
          },
          "metadata": {
            "needs_background": "light"
          }
        }
      ]
    },
    {
      "cell_type": "code",
      "source": [
        "model = model_fn()\n",
        "model.compile(loss='sparse_categorical_crossentropy', metrics='accuracy')\n",
        "\n",
        "# 더 많은 에포크\n",
        "history = model.fit(train_scaled ,train_target, epochs=20, verbose=0)"
      ],
      "metadata": {
        "id": "jT3sGRM2Ei8t"
      },
      "execution_count": 11,
      "outputs": []
    },
    {
      "cell_type": "code",
      "source": [
        "# 적절한 값을 찾아야 하는데, 우리는 지금 훈련 데이터셋의 손실 값만 확인하고 있음\n",
        "plt.plot(history.history['loss'])\n",
        "plt.xlabel('epoch')\n",
        "plt.ylabel('loss')\n",
        "plt.show()"
      ],
      "metadata": {
        "colab": {
          "base_uri": "https://localhost:8080/",
          "height": 279
        },
        "id": "54XoSZ9eEqsR",
        "outputId": "5b68fa6d-4448-48fd-81e4-d0bbd39a9399"
      },
      "execution_count": 12,
      "outputs": [
        {
          "output_type": "display_data",
          "data": {
            "text/plain": [
              "<Figure size 432x288 with 1 Axes>"
            ],
            "image/png": "[encoded data removed]"
          },
          "metadata": {
            "needs_background": "light"
          }
        }
      ]
    },
    {
      "cell_type": "markdown",
      "source": [
        "## 검증 손실\n",
        "- 검증 데이터셋의 손실 값도 확인해보자."
      ],
      "metadata": {
        "id": "zVjLpdIWEyj7"
      }
    },
    {
      "cell_type": "code",
      "source": [
        "model = model_fn()\n",
        "model.compile(loss='sparse_categorical_crossentropy', metrics='accuracy')\n",
        "\n",
        "# validation_data에 데이터셋을 전달하면 에포크마다 손실값과 정확도를 반환\n",
        "history = model.fit(train_scaled, train_target, epochs=20, verbose=0,\n",
        "                    validation_data=(val_scaled, val_target))"
      ],
      "metadata": {
        "id": "nxqbRJHHEwsL"
      },
      "execution_count": 13,
      "outputs": []
    },
    {
      "cell_type": "code",
      "source": [
        "# val_loss와 val_accuracy 추가\n",
        "print(history.history.keys())"
      ],
      "metadata": {
        "colab": {
          "base_uri": "https://localhost:8080/"
        },
        "id": "3WfyMi1YE_QZ",
        "outputId": "d51329ff-8015-4187-8c25-d85c62b53a9c"
      },
      "execution_count": 14,
      "outputs": [
        {
          "output_type": "stream",
          "name": "stdout",
          "text": [
            "dict_keys(['loss', 'accuracy', 'val_loss', 'val_accuracy'])\n"
          ]
        }
      ]
    },
    {
      "cell_type": "code",
      "source": [
        "plt.plot(history.history['loss'])\n",
        "plt.plot(history.history['val_loss'])\n",
        "plt.xlabel('epoch')\n",
        "plt.ylabel('loss')\n",
        "plt.legend(['train', 'val'])\n",
        "\n",
        "# val의 손실 값은 점점 나빠지고 있음 = 과대적합\n",
        "plt.show()"
      ],
      "metadata": {
        "colab": {
          "base_uri": "https://localhost:8080/",
          "height": 279
        },
        "id": "DxV97NN3FBjC",
        "outputId": "b9bcc0a8-e12a-443a-8c17-16dfc783c2fd"
      },
      "execution_count": 15,
      "outputs": [
        {
          "output_type": "display_data",
          "data": {
            "text/plain": [
              "<Figure size 432x288 with 1 Axes>"
            ],
            "image/png": "[encoded data removed]"
          },
          "metadata": {
            "needs_background": "light"
          }
        }
      ]
    },
    {
      "cell_type": "code",
      "source": [
        "model = model_fn()\n",
        "model.compile(optimizer='adam', loss='sparse_categorical_crossentropy', \n",
        "              metrics='accuracy')\n",
        "\n",
        "history = model.fit(train_scaled, train_target, epochs=20, verbose=0, \n",
        "                    validation_data=(val_scaled, val_target))"
      ],
      "metadata": {
        "id": "WWo9WB2hFLiM"
      },
      "execution_count": 17,
      "outputs": []
    },
    {
      "cell_type": "code",
      "source": [
        "plt.plot(history.history['loss'])\n",
        "plt.plot(history.history['val_loss'])\n",
        "plt.xlabel('epoch')\n",
        "plt.ylabel('loss')\n",
        "plt.legend(['train', 'val'])\n",
        "plt.show()"
      ],
      "metadata": {
        "colab": {
          "base_uri": "https://localhost:8080/",
          "height": 279
        },
        "id": "5LsKor_SFa7e",
        "outputId": "b8128ad4-371f-4b65-929f-659675ee5e8e"
      },
      "execution_count": 18,
      "outputs": [
        {
          "output_type": "display_data",
          "data": {
            "text/plain": [
              "<Figure size 432x288 with 1 Axes>"
            ],
            "image/png": "[encoded data removed]"
          },
          "metadata": {
            "needs_background": "light"
          }
        }
      ]
    },
    {
      "cell_type": "markdown",
      "source": [
        "## 드롭아웃\n",
        "\n",
        "- 분류 시 각 샘플을 처리할 때마다 은닉층의 한 뉴런을 랜덤으로 골라 계산에서 제외한다. 그러나 평가 시에는 모든 뉴런을 사용해 모델의 과대 적합을 막는다."
      ],
      "metadata": {
        "id": "NDip_KmEFliQ"
      }
    },
    {
      "cell_type": "code",
      "source": [
        "# Dropout으로 사용 가능 -> Layer로 출력됨\n",
        "model = model_fn(keras.layers.Dropout(0.3))\n",
        "\n",
        "model.summary()"
      ],
      "metadata": {
        "colab": {
          "base_uri": "https://localhost:8080/"
        },
        "id": "djSmU3EiFkuM",
        "outputId": "111bd82b-e715-4b9a-ce54-a4883d71d869"
      },
      "execution_count": 19,
      "outputs": [
        {
          "output_type": "stream",
          "name": "stdout",
          "text": [
            "Model: \"sequential_5\"\n",
            "_________________________________________________________________\n",
            " Layer (type)                Output Shape              Param #   \n",
            "=================================================================\n",
            " flatten_5 (Flatten)         (None, 784)               0         \n",
            "                                                                 \n",
            " dense_10 (Dense)            (None, 100)               78500     \n",
            "                                                                 \n",
            " dropout (Dropout)           (None, 100)               0         \n",
            "                                                                 \n",
            " dense_11 (Dense)            (None, 10)                1010      \n",
            "                                                                 \n",
            "=================================================================\n",
            "Total params: 79,510\n",
            "Trainable params: 79,510\n",
            "Non-trainable params: 0\n",
            "_________________________________________________________________\n"
          ]
        }
      ]
    },
    {
      "cell_type": "code",
      "source": [
        "model.compile(optimizer='adam', loss='sparse_categorical_crossentropy',\n",
        "              metrics='accuracy')\n",
        "\n",
        "history = model.fit(train_scaled, train_target, epochs=20, verbose=0,\n",
        "                    validation_data=(val_scaled, val_target))"
      ],
      "metadata": {
        "id": "_R08-5FlFt9C"
      },
      "execution_count": 20,
      "outputs": []
    },
    {
      "cell_type": "code",
      "source": [
        "plt.plot(history.history['loss'])\n",
        "plt.plot(history.history['val_loss'])\n",
        "plt.xlabel('epoch')\n",
        "plt.ylabel('loss')\n",
        "plt.legend(['train', 'val'])\n",
        "\n",
        "# 낮아진 손실 값\n",
        "plt.show()"
      ],
      "metadata": {
        "colab": {
          "base_uri": "https://localhost:8080/",
          "height": 280
        },
        "id": "dLZ6xA6NF5Ov",
        "outputId": "f76e4921-90d1-450d-c077-d24312eb7935"
      },
      "execution_count": 21,
      "outputs": [
        {
          "output_type": "display_data",
          "data": {
            "text/plain": [
              "<Figure size 432x288 with 1 Axes>"
            ],
            "image/png": "[encoded data removed]"
          },
          "metadata": {
            "needs_background": "light"
          }
        }
      ]
    },
    {
      "cell_type": "markdown",
      "source": [
        "## 모델 저장과 복원"
      ],
      "metadata": {
        "id": "WmOtVml4GS7T"
      }
    },
    {
      "cell_type": "markdown",
      "source": [
        "- 만든 모델을 저장하고 다시 복원해 사용해야 하는 경우\n",
        "- `save_weights` : 모델의 구조는 저장하지 않고 가중치만 저장하는 메소드\n",
        "- `load_weights` : 모델 객체를 불러오는 메소드\n",
        "- `save` : 모델의 구조를 모두 저장하는 메소드\n",
        "- `load_model` : `save`로 저장한 모델을 불러옴"
      ],
      "metadata": {
        "id": "s-aUwBQlirmg"
      }
    },
    {
      "cell_type": "code",
      "source": [
        "model = model_fn(keras.layers.Dropout(0.3))\n",
        "model.compile(optimizer='adam', loss='sparse_categorical_crossentropy',\n",
        "              metrics='accuracy')\n",
        "\n",
        "history = model.fit(train_scaled, train_target, epochs=10, verbose=0,\n",
        "                    validation_data=(val_scaled, val_target))"
      ],
      "metadata": {
        "id": "WQrON9kYFaRn"
      },
      "execution_count": 33,
      "outputs": []
    },
    {
      "cell_type": "code",
      "source": [
        "model.save_weights('model-weights.h5')"
      ],
      "metadata": {
        "id": "7pDxnmKZGgHN"
      },
      "execution_count": 43,
      "outputs": []
    },
    {
      "cell_type": "code",
      "source": [
        "model.save('model-whole.h5')"
      ],
      "metadata": {
        "id": "YMKgGOR0GiTg"
      },
      "execution_count": 44,
      "outputs": []
    },
    {
      "cell_type": "code",
      "source": [
        "!ls -al *.h5"
      ],
      "metadata": {
        "colab": {
          "base_uri": "https://localhost:8080/"
        },
        "id": "xnQwHpTlGj1Q",
        "outputId": "450b16e4-ea53-4aab-fe4d-2958d16a50d8"
      },
      "execution_count": 45,
      "outputs": [
        {
          "output_type": "stream",
          "name": "stdout",
          "text": [
            "-rw-r--r-- 1 root root 982664 May 19 16:24 best-model.h5\n",
            "-rw-r--r-- 1 root root 333448 May 19 16:21 model-weight.h5\n",
            "-rw-r--r-- 1 root root 333448 May 19 16:24 model-weights.h5\n",
            "-rw-r--r-- 1 root root 982664 May 19 16:24 model-whole.h5\n"
          ]
        }
      ]
    },
    {
      "cell_type": "code",
      "source": [
        "model = model_fn(keras.layers.Dropout(0.3))\n",
        "\n",
        "model.load_weights('model-weights.h5')"
      ],
      "metadata": {
        "id": "kZN204hxGlFu"
      },
      "execution_count": 46,
      "outputs": []
    },
    {
      "cell_type": "code",
      "source": [
        "import numpy as np\n",
        "\n",
        "val_labels = np.argmax(model.predict(val_scaled), axis=-1)\n",
        "# 타겟값과 비교해 정확도 출력\n",
        "print(np.mean(val_labels == val_target))"
      ],
      "metadata": {
        "colab": {
          "base_uri": "https://localhost:8080/"
        },
        "id": "QJh_0Ra8GqgJ",
        "outputId": "e46ccf37-b6ff-490c-b08a-c2df39377ba9"
      },
      "execution_count": 47,
      "outputs": [
        {
          "output_type": "stream",
          "name": "stdout",
          "text": [
            "0.8868333333333334\n"
          ]
        }
      ]
    },
    {
      "cell_type": "code",
      "source": [
        "model = keras.models.load_model('model-whole.h5')\n",
        "\n",
        "model.evaluate(val_scaled, val_target)"
      ],
      "metadata": {
        "colab": {
          "base_uri": "https://localhost:8080/"
        },
        "id": "Af2zz64iGps6",
        "outputId": "4b5fa90b-5449-49a0-9cdc-76fa97533fa4"
      },
      "execution_count": 48,
      "outputs": [
        {
          "output_type": "stream",
          "name": "stdout",
          "text": [
            "375/375 [==============================] - 1s 2ms/step - loss: 0.3239 - accuracy: 0.8868\n"
          ]
        },
        {
          "output_type": "execute_result",
          "data": {
            "text/plain": [
              "[0.32385194301605225, 0.8868333101272583]"
            ]
          },
          "metadata": {},
          "execution_count": 48
        }
      ]
    },
    {
      "cell_type": "markdown",
      "source": [
        "## 콜백\n",
        "- 모델 훈련 과정에서도 지정한 일을 수행할 수 있는 기능\n",
        "- `ModelCheckpoint`: 가장 낮은 손실 값을 가질 때의 매개변수 값을 출력한다.\n"
      ],
      "metadata": {
        "id": "w17WXO3tHA8t"
      }
    },
    {
      "cell_type": "code",
      "source": [
        "model = model_fn(keras.layers.Dropout(0.3))\n",
        "model.compile(optimizer='adam', loss='sparse_categorical_crossentropy',\n",
        "              metrics='accuracy')\n",
        "\n",
        "# best-model.h5에 값이 저장됨\n",
        "checkpoint_cb = keras.callbacks.ModelCheckpoint('best-model.h5',\n",
        "                                                save_best_only=True)\n",
        "# callbacks에 리스트로 전달한다.\n",
        "model.fit(train_scaled, train_target, epochs=20, verbose=0,\n",
        "          validation_data=(val_scaled, val_target),\n",
        "          callbacks=[checkpoint_cb])"
      ],
      "metadata": {
        "colab": {
          "base_uri": "https://localhost:8080/"
        },
        "id": "SkTlKGCiG-nO",
        "outputId": "3b694ea5-66ee-4896-9a00-7d3405b8a827"
      },
      "execution_count": 37,
      "outputs": [
        {
          "output_type": "execute_result",
          "data": {
            "text/plain": [
              "<keras.callbacks.History at 0x7f4d855a8790>"
            ]
          },
          "metadata": {},
          "execution_count": 37
        }
      ]
    },
    {
      "cell_type": "code",
      "source": [
        "model = keras.models.load_model('best-model.h5')\n",
        "\n",
        "model.evaluate(val_scaled, val_target)"
      ],
      "metadata": {
        "colab": {
          "base_uri": "https://localhost:8080/"
        },
        "id": "m3gvA-eoHwOv",
        "outputId": "a08ae6ab-6d3d-408a-de6d-c45e5441ae5e"
      },
      "execution_count": 38,
      "outputs": [
        {
          "output_type": "stream",
          "name": "stdout",
          "text": [
            "375/375 [==============================] - 1s 3ms/step - loss: 0.3172 - accuracy: 0.8839\n"
          ]
        },
        {
          "output_type": "execute_result",
          "data": {
            "text/plain": [
              "[0.3172215223312378, 0.8839166760444641]"
            ]
          },
          "metadata": {},
          "execution_count": 38
        }
      ]
    },
    {
      "cell_type": "code",
      "source": [
        "model = model_fn(keras.layers.Dropout(0.3))\n",
        "model.compile(optimizer='adam', loss='sparse_categorical_crossentropy',\n",
        "              metrics='accuracy')\n",
        "\n",
        "checkpoint_cb = keras.callbacks.ModelCheckpoint('best-model.h5',\n",
        "                                                save_best_only=True)\n",
        "# 조기종료: 손실 값이 높아지면 굳이 훈련을 진행하지 않고 종료하도록 한다.\n",
        "# patience: 조기종료 시점으로 무시할 epoch 횟수\n",
        "early_stopping_cb = keras.callbacks.EarlyStopping(patience=2,\n",
        "                                                  restore_best_weights=True)\n",
        "history = model.fit(train_scaled, train_target, epochs=20, verbose=0,\n",
        "                    validation_data=(val_scaled, val_target),\n",
        "                    callbacks=[checkpoint_cb, early_stopping_cb])"
      ],
      "metadata": {
        "id": "E000QrrLH1cg"
      },
      "execution_count": 39,
      "outputs": []
    },
    {
      "cell_type": "code",
      "source": [
        "print(early_stopping_cb.stopped_epoch)"
      ],
      "metadata": {
        "colab": {
          "base_uri": "https://localhost:8080/"
        },
        "id": "GpITM6sTIOf4",
        "outputId": "e57fae1d-1248-4646-bed4-4ada8feecb09"
      },
      "execution_count": 40,
      "outputs": [
        {
          "output_type": "stream",
          "name": "stdout",
          "text": [
            "9\n"
          ]
        }
      ]
    },
    {
      "cell_type": "code",
      "source": [
        "plt.plot(history.history['loss'])\n",
        "plt.plot(history.history['val_loss'])\n",
        "plt.xlabel('epoch')\n",
        "plt.ylabel('loss')\n",
        "plt.legend(['train', 'val'])\n",
        "plt.show()"
      ],
      "metadata": {
        "colab": {
          "base_uri": "https://localhost:8080/",
          "height": 279
        },
        "id": "S8f0bLAHIRmx",
        "outputId": "78ba460a-bd3d-4ed5-fcdc-912e49ae7c6d"
      },
      "execution_count": 41,
      "outputs": [
        {
          "output_type": "display_data",
          "data": {
            "text/plain": [
              "<Figure size 432x288 with 1 Axes>"
            ],
            "image/png": "[encoded data removed]"
          },
          "metadata": {
            "needs_background": "light"
          }
        }
      ]
    },
    {
      "cell_type": "code",
      "source": [
        "model.evaluate(val_scaled, val_target)"
      ],
      "metadata": {
        "colab": {
          "base_uri": "https://localhost:8080/"
        },
        "id": "NcttMbwCIaUw",
        "outputId": "2e837a1c-4177-4015-87c5-bfd3f12856a4"
      },
      "execution_count": 42,
      "outputs": [
        {
          "output_type": "stream",
          "name": "stdout",
          "text": [
            "375/375 [==============================] - 1s 2ms/step - loss: 0.3239 - accuracy: 0.8868\n"
          ]
        },
        {
          "output_type": "execute_result",
          "data": {
            "text/plain": [
              "[0.32385194301605225, 0.8868333101272583]"
            ]
          },
          "metadata": {},
          "execution_count": 42
        }
      ]
    }
  ]
}